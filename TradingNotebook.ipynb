{
 "cells": [
  {
   "cell_type": "code",
   "execution_count": null,
   "metadata": {},
   "outputs": [],
   "source": [
    "import numpy as np\n",
    "import seaborn as sns\n",
    "import pandas as pd\n",
    "import matplotlib.pyplot as plt\n",
    "%matplotlib inline"
   ]
  },
  {
   "cell_type": "markdown",
   "metadata": {},
   "source": [
    "## Pair Trading of OIH/XLE Pair\n",
    "\n",
    "Our goal today will be to trade the spread of two very non-ESG ETF's, the VanEck Oil Services ETF (OIH) and Energy Select Sector SPDR Fund (XLE). OIH is attempting to track the MVIS® US Listed Oil Services 25 Index, which consists of 'U.S.-listed companies involved in oil services to the upstream oil sector, which include oil equipment, oil services, or oil drilling.' In comparison, XLE is dynamically changing to best represent the energy component of the S&P500 index, and currently (4th of April 2022) holds 21 companies, with the mandate '[XLE] Seeks to provide precise exposure to companies in the oil, gas and consumable fuel, energy equipment and services industries'.\n",
    "\n",
    "We want to build a strategy based on the following observation: given the similarity of the two ETF's, it is likely that an appropriate portfolio consisting of both will generate a mean-reverting stochastic process that we can trade. "
   ]
  },
  {
   "cell_type": "markdown",
   "metadata": {},
   "source": [
    "### Getting the Data\n",
    "We load the data and plot the two price series. We also do a scatterplot of the two series against each other, with each point coloured by the date."
   ]
  },
  {
   "cell_type": "code",
   "execution_count": null,
   "metadata": {},
   "outputs": [],
   "source": [
    "OIH_data = pd.read_csv(\"OIH.csv\")\n",
    "XLE_data = pd.read_csv(\"XLE.csv\")"
   ]
  },
  {
   "cell_type": "code",
   "execution_count": null,
   "metadata": {},
   "outputs": [],
   "source": [
    "df = XLE_data[[\"Date\", \"Adj Close\"]].rename(columns={\"Adj Close\": \"XLE\"})\n",
    "df[\"Date\"] = pd.to_datetime(df[\"Date\"])\n",
    "df[\"OIH\"] = OIH_data[\"Adj Close\"]"
   ]
  },
  {
   "cell_type": "markdown",
   "metadata": {},
   "source": [
    "We will play nice and only use data up until and including 2016 for our research. At the end of the session, we will see what happens on the remainder of the data."
   ]
  },
  {
   "cell_type": "code",
   "execution_count": null,
   "metadata": {},
   "outputs": [],
   "source": [
    "df = df[df[\"Date\"] < pd.Timestamp(\"2017-01-01\")]\n",
    "df = df[df[\"Date\"] > pd.Timestamp(\"2009-01-01\")].reset_index(drop=True)"
   ]
  },
  {
   "cell_type": "code",
   "execution_count": null,
   "metadata": {
    "scrolled": false
   },
   "outputs": [],
   "source": [
    "df[[\"Date\", \"OIH\", \"XLE\"]].set_index(\"Date\").plot(subplots=True, figsize=(12,9))"
   ]
  },
  {
   "cell_type": "code",
   "execution_count": null,
   "metadata": {},
   "outputs": [],
   "source": [
    "# Boilerplate to generate a few arrays that are queried later\n",
    "XLE_price = df[\"XLE\"].to_numpy()\n",
    "OIH_price = df[\"OIH\"].to_numpy()"
   ]
  },
  {
   "cell_type": "code",
   "execution_count": null,
   "metadata": {
    "scrolled": false
   },
   "outputs": [],
   "source": [
    "df.plot.scatter(x=\"XLE\", y=\"OIH\", c=\"Date\", figsize=(12,9))"
   ]
  },
  {
   "cell_type": "markdown",
   "metadata": {},
   "source": [
    "## Linear Model Solution for Hedge Ratio"
   ]
  },
  {
   "cell_type": "markdown",
   "metadata": {},
   "source": [
    "We want to capture the dynamics of the spread linearly in time, directly from the prices. Code a rolling linear model that captures the in-fit residual of modelling the price of OIH as a function of XLE. Extract the coefficient(s) of your model and plot them. Denote your slope coefficient `rolling_hedge_ratio`. What kind of lookback length should be used? As an alternative, we could consider log prices and the corresponding logarithmic spread. What could be pros and cons of choosing to work in log-price space? Nonetheless, we will remain in price space for the remainder of the exercise.\n",
    "\n",
    "After that, calculate the `rolling_spread` and visualize it, which is easily done using the Pandas DataFrame method `rolling`. Does it look mean reverting? What issues could we have from trading on it?\n"
   ]
  },
  {
   "cell_type": "code",
   "execution_count": null,
   "metadata": {},
   "outputs": [],
   "source": []
  },
  {
   "cell_type": "markdown",
   "metadata": {},
   "source": [
    "To ensure that we are consistent in time, we want to normalize the spread. Calculate the rolling spread and standardize it, i.e. calculate the rolling Z-score, and name the column `rolling_spread_normalized`. Plot the standardized spread - does it look mean reverting in a consistent manner? "
   ]
  },
  {
   "cell_type": "code",
   "execution_count": null,
   "metadata": {},
   "outputs": [],
   "source": []
  },
  {
   "cell_type": "code",
   "execution_count": null,
   "metadata": {},
   "outputs": [],
   "source": [
    "# There will be some NaNs after the above, just replace them with 0.0. \n",
    "df.fillna(0., inplace=True)"
   ]
  },
  {
   "cell_type": "markdown",
   "metadata": {},
   "source": [
    "In the end you, for compability with the below, should have the following columns in your dataframe:\n",
    "- rolling_spread_normalized: the continuously-normalized spread. \n",
    "- rolling_hedge_ratio: the rolling beta of XLE regressed against OIH"
   ]
  },
  {
   "cell_type": "markdown",
   "metadata": {},
   "source": [
    "### Strategy Example\n",
    "With our normalized spread, we can now device a very simple strategy that tries to trade on extremes:\n",
    "\n",
    "\n",
    "- Whenever the spread is above 2, we short the spread\n",
    "- Whenever the spread is below -2 we go long the spread\n",
    "- Whenever the spread reaches zero, we close the position\n",
    "\n",
    "This strategy is *dollar-neutral*, in the sense that the spread has no direct exposure to the market. The below plot visualizes our entry and exit positions."
   ]
  },
  {
   "cell_type": "code",
   "execution_count": null,
   "metadata": {},
   "outputs": [],
   "source": [
    "df[[\"Date\", \"rolling_spread_normalized\"]].set_index(\"Date\").plot()\n",
    "plt.axhline(y=2, color='red', linestyle='--')\n",
    "plt.axhline(y=-2, color='red', linestyle='--')"
   ]
  },
  {
   "cell_type": "markdown",
   "metadata": {},
   "source": [
    "### Boilerplate code to run the strategies"
   ]
  },
  {
   "cell_type": "code",
   "execution_count": null,
   "metadata": {},
   "outputs": [],
   "source": [
    "def cost_function(p1, p2, p1_prev, p2_prev):\n",
    "    return 0.0\n",
    "\n",
    "def test_strategy(hedge_ratio: pd.Series, spread: pd.Series, \n",
    "                  lower_bound: float=2., upper_bound: float=2., \n",
    "                  long_spread_cutoff:float =0., short_spread_cutoff: float=0.):  \n",
    "    \n",
    "    no_days = len(XLE_price)\n",
    "    \n",
    "    if isinstance(hedge_ratio, float) or len(hedge_ratio)==1:\n",
    "        hedge_ratio = np.repeat(hedge_ratio, no_days)\n",
    "        \n",
    "    if isinstance(lower_bound, float) or len(lower_bound)==1:\n",
    "        lower_bound = np.repeat(lower_bound, no_days)\n",
    "        \n",
    "    if isinstance(upper_bound, float) or len(upper_bound)==1:\n",
    "        upper_bound = np.repeat(upper_bound, no_days)\n",
    "        \n",
    "    if isinstance(long_spread_cutoff, float) or len(long_spread_cutoff)==1:\n",
    "        long_spread_cutoff = np.repeat(long_spread_cutoff, no_days)\n",
    "        \n",
    "    if isinstance(short_spread_cutoff, float) or len(short_spread_cutoff)==1:\n",
    "        short_spread_cutoff = np.repeat(short_spread_cutoff, no_days)\n",
    "    \n",
    "    if len(spread) == len(hedge_ratio) is False:\n",
    "        raise Exception(\"Spread and hedge ratio vectors must be of the same length.\")\n",
    "    \n",
    "    # Compute Positions\n",
    "    positions1 = [0]\n",
    "    positions2 = [0]\n",
    "    for i in range(len(XLE_price)):\n",
    "        price1 = XLE_price[i]\n",
    "        price2 = OIH_price[i]\n",
    "\n",
    "        p1_next, p2_next = make_decision(price1, price2, positions1[-1], positions2[-1],\n",
    "                                        hedge_ratio[i], spread[i], lower_bound[i], upper_bound[i],\n",
    "                                        long_spread_cutoff[i], short_spread_cutoff[i])\n",
    "        positions1.append(float(p1_next))\n",
    "        positions2.append(float(p2_next))\n",
    "\n",
    "    # Compute Returns\n",
    "    portfolio_multipliers = []\n",
    "    vals = []\n",
    "    prev_vals = []\n",
    "    trading_profit = []\n",
    "    trading_costs = []\n",
    "    dollar_pnl = []\n",
    "    relative_portfolio = []\n",
    "    absolute_portfolio = []\n",
    "\n",
    "    for i in range(1, len(XLE_price)):\n",
    "        p1 = positions1[i]\n",
    "        p2 = positions2[i]\n",
    "        \n",
    "        p1_prev = positions1[i-1]\n",
    "        p2_prev = positions2[i-1]\n",
    "\n",
    "        price1 = XLE_price[i]\n",
    "        price2 = OIH_price[i]\n",
    "        price1_prev = XLE_price[i-1]\n",
    "        price2_prev = OIH_price[i-1]\n",
    "\n",
    "        portfolio_value = p1 * price1 + p2 * price2 # Value prior to your action at t\n",
    "        portfolio_value_prev = p1 * price1_prev + p2 * price2_prev # Value after your action at t-1\n",
    "        dollar_return = p1 * (price1-price1_prev) + p2 * (price2-price2_prev)\n",
    "        costs = cost_function(p1, p2, p1_prev, p2_prev)\n",
    "        rel_port = p1 * price1 + p2 * price2\n",
    "        abs_port = np.abs(p1) * price1 + np.abs(p2) * price2\n",
    "        \n",
    "        trading_costs.append(costs)\n",
    "        trading_profit.append(dollar_return)\n",
    "        relative_portfolio.append(rel_port)\n",
    "        absolute_portfolio.append(abs_port)\n",
    "        \n",
    "        dollar_pnl.append(dollar_return - costs)\n",
    "\n",
    "    dollar_pnl.append(0)\n",
    "    trading_costs.append(0)\n",
    "    trading_profit.append(0)\n",
    "    relative_portfolio.append(0)\n",
    "    absolute_portfolio.append(0)\n",
    "\n",
    "    return pd.DataFrame({\"pos1\":positions1[1:], \"pos2\":positions2[1:], \"trading_profit\": trading_profit, \"trading_costs\": trading_costs,  \"pnl\":dollar_pnl, \"hedge_ratio\":hedge_ratio,\n",
    "            \"spread\": spread, \"lower_bound\": lower_bound, \"upper_bound\": upper_bound,\n",
    "            \"cumulative_pnl\": np.cumsum(dollar_pnl), \n",
    "            \"relative position\": relative_portfolio,\n",
    "            \"absolute_position\": absolute_portfolio})\n",
    "\n",
    "\n",
    "def plot_results(portfolio_df, standard_strategy=False, plot_costs: bool=False):\n",
    "    portfolio_df_diff = portfolio_df.diff().fillna(0.)\n",
    "    portfolio_df[\"date\"] = df[\"Date\"]\n",
    "    portfolio_df_diff[\"date\"] = df[\"Date\"]\n",
    "    portfolio_df[\"cumulative_pnl\"] = portfolio_df[\"pnl\"].cumsum()\n",
    "    \n",
    "    if(plot_costs):\n",
    "        for x in [\"profit\", \"costs\"]:\n",
    "            portfolio_df[f\"cumulative_{x}\"] = portfolio_df[f\"trading_{x}\"].cumsum()\n",
    "        \n",
    "    figure = plt.figure(figsize=(12, 12))\n",
    "    plt.subplot(311)\n",
    "    plt.title(\"Spread and positions\")\n",
    "    plt.plot(df[\"Date\"], df[\"rolling_spread_normalized\"])\n",
    "    plt.plot(df[\"Date\"], portfolio_df[\"upper_bound\"], c=\"red\",  linestyle='--')\n",
    "    plt.plot(df[\"Date\"], portfolio_df[\"lower_bound\"], c=\"red\",  linestyle='--')\n",
    "        \n",
    "    for i in range(portfolio_df_diff.shape[0]):\n",
    "        if portfolio_df_diff[\"pos1\"][i] != 0:\n",
    "            plt.axvline(x=portfolio_df_diff.loc[i, \"date\"], color=\"green\", alpha=0.6)\n",
    "\n",
    "    plt.grid()\n",
    "\n",
    "    plt.subplot(312)\n",
    "    plt.title(\"Accumulated PNL\")\n",
    "    for i in range(portfolio_df_diff.shape[0]):\n",
    "        if portfolio_df_diff[\"pos1\"][i] != 0:\n",
    "            plt.axvline(x=portfolio_df_diff.loc[i, \"date\"], color=\"green\", alpha=0.6)\n",
    "    plt.plot(portfolio_df[\"date\"], portfolio_df[\"cumulative_pnl\"])\n",
    "    if (plot_costs):\n",
    "        for x in [\"profit\", \"costs\"]:\n",
    "            plt.plot(portfolio_df[\"date\"], portfolio_df[f\"cumulative_{x}\"])\n",
    "    plt.grid()"
   ]
  },
  {
   "cell_type": "markdown",
   "metadata": {},
   "source": [
    "## Build a trading strategy\n",
    "\n",
    "Below is a function, `make_decision` that takes prices of the two assets and respective positions as input and outputs the desired positions in both assets, in the form of `return pos1, pos2`. The desired positions are normalized to one such that $|p_1| + |p_2| = 1$ or $p_1=p_2=0$ if you have no position at all; the easiest way is to normalize the coefficients of the spread portfolio $(1, \\beta)$ by the sum $1+\\beta$.\n",
    "\n",
    "The interpretation of these constraints is that you either invest all of your capital into these two assets or you do not invest anything. For example, if you want to go long in both assets by investing 3 times more of your total capital in asset 1 your output should be 0.75, 0.25. Similarly, if you want to invest equaly but go long asset 1 and short asset 2 your output should be 0.5, -0.5. If you want to close your position your output should be 0, 0.\n",
    "\n",
    "We will below implement the strategy example described above, however, the key part is for you guys to try to figure out what to do to improve the results. The `test_strategy` function can take vectors for all 6 arguments as well, so you can make dynamically updating bounds and cut-offs`. It is therefore possible to do research on improving, for example:\n",
    "\n",
    "- How the hedge-ratio is calculated, and subsequently what position sizes are generated\n",
    "- How the spread is calculated\n",
    "- At what levels of the spread the strategy takes a position\n",
    "- When to exit the strategy"
   ]
  },
  {
   "cell_type": "code",
   "execution_count": null,
   "metadata": {},
   "outputs": [],
   "source": [
    "def make_decision(price1, price2, position1, position2, \n",
    "                  hedge_ratio, spread_value, lower=-2., upper=2., \n",
    "                  long_spread_cutoff=0., short_spread_cutoff=0.):\n",
    "    \n",
    "    # When we go long the spread the output should be (alpha1, alpha2)\n",
    "    # When we go short the spread the output should be (-alpha1, -alpha2)\n",
    "    alpha1 = -hedge_ratio / (1 + hedge_ratio)\n",
    "    alpha2 = 1 / (1 + hedge_ratio)\n",
    "    \n",
    "    # Check if there is an open position\n",
    "    if position2 > 0: # We are long the spread\n",
    "        if spread_value > long_spread_cutoff: # The price fell below the mean so close the position\n",
    "            return 0, 0\n",
    "        else:\n",
    "            return position1, position2 # Keep the position\n",
    "    if position2 < 0: # We are short the spread\n",
    "        if spread_value < short_spread_cutoff:\n",
    "            return 0, 0 # Close the position\n",
    "        else:\n",
    "            return position1, position2 # Keep the position\n",
    "    if position2 == 0: # We have no position at the moment so see if we want to open a position\n",
    "        if spread_value < lower:\n",
    "            return alpha1, alpha2\n",
    "        if spread_value > upper:\n",
    "            return -alpha1, -alpha2\n",
    "    \n",
    "    return 0, 0"
   ]
  },
  {
   "cell_type": "code",
   "execution_count": null,
   "metadata": {},
   "outputs": [],
   "source": [
    "results = test_strategy(hedge_ratio=df[\"rolling_hedge_ratio\"], \n",
    "                        spread=df[\"rolling_spread_normalized\"], \n",
    "                        lower_bound=-2., \n",
    "                        upper_bound=2., \n",
    "                        long_spread_cutoff=0., \n",
    "                        short_spread_cutoff=-0.)"
   ]
  },
  {
   "cell_type": "code",
   "execution_count": null,
   "metadata": {},
   "outputs": [],
   "source": [
    "results = pd.DataFrame(results)"
   ]
  },
  {
   "cell_type": "code",
   "execution_count": null,
   "metadata": {},
   "outputs": [],
   "source": [
    "plot_results(results, True)"
   ]
  },
  {
   "cell_type": "markdown",
   "metadata": {},
   "source": [
    "## Estimating performance\n",
    "\n",
    "Typically the Sharpe ratio, defined as the Z-score of the daily returns against invested capital against some riskless benchmark,\n",
    "\n",
    "$$ SR = \\frac{\\mu_{strat}-r}{\\sigma_{strat}},$$\n",
    "\n",
    "is the first port of call for strategy performance. However, since we are dollar-neutral, we do not have a clear open position at any given time. Can you come up with an alternative way to estimate this for our data? What issues could we run into?"
   ]
  },
  {
   "cell_type": "code",
   "execution_count": null,
   "metadata": {},
   "outputs": [],
   "source": []
  },
  {
   "cell_type": "markdown",
   "metadata": {},
   "source": [
    "## Trading Costs\n",
    "\n",
    "In reality, you can't just take the profits, you have to spend money on trading.\n",
    "\n",
    "When you execute a trade, you might have to pay money to:\n",
    "\n",
    "1. Your broker - commissions costs\n",
    "    - For retail investors, these might just be constant per-trade: e.g. https://www.hl.co.uk/shares/share-dealing/dealing-charges\n",
    "3. \"The market\" - the price to buy might be higher than the price to sell (this is called the \"spread\")\n",
    "    - In practice, likely to be small for very liquid assets"
   ]
  },
  {
   "cell_type": "code",
   "execution_count": null,
   "metadata": {},
   "outputs": [],
   "source": [
    "def cost_function(p1, p2, p1_prev, p2_prev):\n",
    "    const = 0.00\n",
    "    lin = 0.01\n",
    "    t1 = p1 - p1_prev\n",
    "    t2 = p2 - p2_prev\n",
    "    c = const if abs(t1) + abs(t2) > 1e-6 else 0.0\n",
    "    trading_cost = lin * (abs(t1) + abs(t2)) + c\n",
    "    return trading_cost"
   ]
  },
  {
   "cell_type": "code",
   "execution_count": null,
   "metadata": {
    "scrolled": false
   },
   "outputs": [],
   "source": [
    "results = test_strategy(df[\"rolling_hedge_ratio\"], df[\"rolling_spread_normalized\"], -2., 2., 0.0, -0.0)\n",
    "plot_results(results, True,True)"
   ]
  },
  {
   "cell_type": "markdown",
   "metadata": {},
   "source": [
    "## Holding Costs\n",
    "\n",
    "There are also costs for holding a position. These could be ETF management fees, as well as the (1) thee cost to borrow money to run (or scale up) the strategy, or (2) to faciliate short positions.\n",
    "\n",
    "**Discuss what would make a sensible holding cost model, and re-implement cost_function()**"
   ]
  },
  {
   "cell_type": "code",
   "execution_count": null,
   "metadata": {},
   "outputs": [],
   "source": [
    "def cost_function(p1, p2, p1_prev, p2_prev):\n",
    "    return 0.0 # New trading & holding costs model goes here\n",
    "\n",
    "results = test_strategy(df[\"rolling_hedge_ratio\"], df[\"rolling_spread_normalized\"], -2., 2.0, 0.0, -0.0)\n",
    "plot_results(results, True,True)"
   ]
  },
  {
   "cell_type": "markdown",
   "metadata": {},
   "source": [
    "## Market Impact\n",
    "\n",
    "When you're a retail investor (i.e. a private individual with a RobinHood, HL etc account) your trades won't have any affect on the price.\n",
    "\n",
    "If you're a large enough market participant, your trades will affect the price of the security.\n",
    "\n",
    "There are many ways of thinking about this, but we'll assume the following:\n",
    "\n",
    "- Buying 1 unit of each ETF causes the log(price) to increase by k\n",
    "- Selling 1 unit of each ETF causes the log(price) to decrease by k\n",
    "\n",
    "These price changes are persistent and do not decay towards the impact-independent price"
   ]
  },
  {
   "cell_type": "code",
   "execution_count": null,
   "metadata": {},
   "outputs": [],
   "source": [
    "def test_strategy_with_impact(hedge_ratio: pd.Series, spread: pd.Series, \n",
    "                  lower_bound: float=2., upper_bound: float=2., \n",
    "                  long_spread_cutoff:float =0., short_spread_cutoff: float=0.,\n",
    "                 impact_parameter: float=0.01):  \n",
    "    \n",
    "    no_days = len(XLE_price)\n",
    "    \n",
    "    if isinstance(hedge_ratio, float) or len(hedge_ratio) ==1:\n",
    "        hedge_ratio = np.repeat(hedge_ratio, no_days)\n",
    "        \n",
    "    if isinstance(lower_bound, float) or len(lower_bound) ==1:\n",
    "        lower_bound = np.repeat(lower_bound, no_days)\n",
    "        \n",
    "    if isinstance(upper_bound, float) or len(upper_bound) ==1:\n",
    "        upper_bound = np.repeat(upper_bound, no_days)\n",
    "        \n",
    "    if isinstance(long_spread_cutoff, float) or len(long_spread_cutoff) ==1:\n",
    "        long_spread_cutoff = np.repeat(long_spread_cutoff, no_days)\n",
    "        \n",
    "    if isinstance(short_spread_cutoff, float) or len(short_spread_cutoff) ==1:\n",
    "        short_spread_cutoff = np.repeat(short_spread_cutoff, no_days)\n",
    "    \n",
    "    if len(spread) == len(hedge_ratio) is False:\n",
    "        raise Exception(\"Spread and hedge ratio vectors must be of the same length.\")\n",
    "    \n",
    "    # Compute Positions\n",
    "    positions1 = [0]\n",
    "    positions2 = [0]\n",
    "    XLE_price_inc_impact = [XLE_price[0]] * len(XLE_price)\n",
    "    OIH_price_inc_impact = [OIH_price[0]] * len(OIH_price)\n",
    "    for i in range(len(XLE_price)):\n",
    "        XLE_price_inc_impact[i] = XLE_price[i] * np.exp(impact_parameter * positions1[i])\n",
    "        OIH_price_inc_impact[i] = OIH_price[i] * np.exp(impact_parameter * positions2[i])\n",
    "        price1 = XLE_price_inc_impact[i]\n",
    "        price2 = OIH_price_inc_impact[i]\n",
    "\n",
    "        p1_next, p2_next = make_decision(price1, price2, positions1[-1], positions2[-1],\n",
    "                                        hedge_ratio[i], spread[i], lower_bound[i], upper_bound[i],\n",
    "                                        long_spread_cutoff[i], short_spread_cutoff[i])\n",
    "        positions1.append(float(p1_next))\n",
    "        positions2.append(float(p2_next))\n",
    "\n",
    "    # Compute Returns\n",
    "    portfolio_multipliers = []\n",
    "    vals = []\n",
    "    prev_vals = []\n",
    "    trading_profit = []\n",
    "    trading_costs = []\n",
    "    dollar_pnl = []\n",
    "\n",
    "    for i in range(1, len(XLE_price)):\n",
    "        p1 = positions1[i]\n",
    "        p2 = positions2[i]\n",
    "        \n",
    "        p1_prev = positions1[i-1]\n",
    "        p2_prev = positions2[i-1]\n",
    "\n",
    "        rawprice1 = XLE_price_inc_impact[i]\n",
    "        rawprice2 = OIH_price_inc_impact[i]\n",
    "        price1_prev = XLE_price[i-1]\n",
    "        price2_prev = OIH_price[i-1]\n",
    "\n",
    "        portfolio_value = p1 * price1 + p2 * price2 # Value prior to your action at t\n",
    "        portfolio_value_prev = p1 * price1_prev + p2 * price2_prev # Value after your action at t-1\n",
    "        dollar_return = p1 * (price1-price1_prev) + p2 * (price2-price2_prev)\n",
    "        costs = cost_function(p1, p2, p1_prev, p2_prev)\n",
    "        \n",
    "        trading_costs.append(costs)\n",
    "        trading_profit.append(dollar_return)\n",
    "\n",
    "        dollar_pnl.append(dollar_return - costs)\n",
    "\n",
    "    dollar_pnl.append(0)\n",
    "    trading_costs.append(0)\n",
    "    trading_profit.append(0)\n",
    "\n",
    "    return pd.DataFrame({\"pos1\":positions1[1:], \"pos2\":positions2[1:], \"trading_profit\": trading_profit, \"trading_costs\": trading_costs,  \"pnl\":dollar_pnl, \"hedge_ratio\":hedge_ratio,\n",
    "           \"spread\": spread, \"lower_bound\": lower_bound, \"upper_bound\": upper_bound, \n",
    "            \"price_with_impact1\": XLE_price_inc_impact, \"price_with_impact2\": OIH_price_inc_impact})"
   ]
  },
  {
   "cell_type": "code",
   "execution_count": null,
   "metadata": {},
   "outputs": [],
   "source": [
    "results = test_strategy_with_impact(df[\"rolling_hedge_ratio\"], df[\"rolling_spread_normalized\"], -2., 2.0, 0.0, -0.0, 0.0)\n",
    "plot_results(results, True,True)"
   ]
  }
 ],
 "metadata": {
  "kernelspec": {
   "display_name": "Python 3",
   "language": "python",
   "name": "python3"
  },
  "language_info": {
   "codemirror_mode": {
    "name": "ipython",
    "version": 3
   },
   "file_extension": ".py",
   "mimetype": "text/x-python",
   "name": "python",
   "nbconvert_exporter": "python",
   "pygments_lexer": "ipython3",
   "version": "3.7.3"
  }
 },
 "nbformat": 4,
 "nbformat_minor": 5
}
